{
 "cells": [
  {
   "cell_type": "code",
   "execution_count": 17,
   "metadata": {},
   "outputs": [],
   "source": [
    "import pandas as pd\n",
    "\n",
    "# Read the CSV into a pandas data frame (df)\n",
    "#   With a df you can do many things\n",
    "#   most important: visualize data with Seaborn\n",
    "\n",
    "\n",
    "# Or export it in many ways, e.g. a list of tuples\n",
    "\n",
    "def search(filename):\n",
    "    #### Your code here\n",
    "    df = pd.read_csv(filename, delimiter=',')\n",
    "    # Looping through the file line by line\n",
    "    tuples = [tuple(x) for x in df.values]\n",
    "    yield tuples"
   ]
  },
  {
   "cell_type": "code",
   "execution_count": null,
   "metadata": {
    "collapsed": true
   },
   "outputs": [],
   "source": []
  },
  {
   "cell_type": "code",
   "execution_count": 20,
   "metadata": {},
   "outputs": [
    {
     "ename": "NameError",
     "evalue": "name 'market' is not defined",
     "output_type": "error",
     "traceback": [
      "\u001b[1;31m---------------------------------------------------------------------------\u001b[0m",
      "\u001b[1;31mNameError\u001b[0m                                 Traceback (most recent call last)",
      "\u001b[1;32m<ipython-input-20-5d09924a18e8>\u001b[0m in \u001b[0;36m<module>\u001b[1;34m()\u001b[0m\n\u001b[1;32m----> 1\u001b[1;33m \u001b[0mdf\u001b[0m \u001b[1;33m=\u001b[0m \u001b[0mpd\u001b[0m\u001b[1;33m.\u001b[0m\u001b[0mread_csv\u001b[0m\u001b[1;33m(\u001b[0m\u001b[0mmarket\u001b[0m\u001b[1;33m.\u001b[0m\u001b[0mcsv\u001b[0m\u001b[1;33m,\u001b[0m \u001b[0mdelimiter\u001b[0m\u001b[1;33m=\u001b[0m\u001b[1;34m','\u001b[0m\u001b[1;33m)\u001b[0m\u001b[1;33m\u001b[0m\u001b[0m\n\u001b[0m",
      "\u001b[1;31mNameError\u001b[0m: name 'market' is not defined"
     ]
    }
   ],
   "source": [
    "df = pd.read_csv(market.csv, delimiter=',')"
   ]
  },
  {
   "cell_type": "code",
   "execution_count": 52,
   "metadata": {},
   "outputs": [
    {
     "ename": "TypeError",
     "evalue": "'_csv.reader' object is not subscriptable",
     "output_type": "error",
     "traceback": [
      "\u001b[1;31m---------------------------------------------------------------------------\u001b[0m",
      "\u001b[1;31mTypeError\u001b[0m                                 Traceback (most recent call last)",
      "\u001b[1;32m<ipython-input-52-6e5cb359404b>\u001b[0m in \u001b[0;36m<module>\u001b[1;34m()\u001b[0m\n\u001b[0;32m      3\u001b[0m \u001b[1;32mwith\u001b[0m \u001b[0mopen\u001b[0m\u001b[1;33m(\u001b[0m\u001b[1;34m'market.csv'\u001b[0m\u001b[1;33m,\u001b[0m \u001b[1;34m'r'\u001b[0m\u001b[1;33m)\u001b[0m \u001b[1;32mas\u001b[0m \u001b[0mf\u001b[0m\u001b[1;33m:\u001b[0m\u001b[1;33m\u001b[0m\u001b[0m\n\u001b[0;32m      4\u001b[0m     \u001b[0mreader\u001b[0m \u001b[1;33m=\u001b[0m \u001b[0mcsv\u001b[0m\u001b[1;33m.\u001b[0m\u001b[0mreader\u001b[0m\u001b[1;33m(\u001b[0m\u001b[0mf\u001b[0m\u001b[1;33m)\u001b[0m\u001b[1;33m\u001b[0m\u001b[0m\n\u001b[1;32m----> 5\u001b[1;33m     \u001b[0myour_list\u001b[0m \u001b[1;33m=\u001b[0m \u001b[0mlist\u001b[0m\u001b[1;33m(\u001b[0m\u001b[0mreader\u001b[0m\u001b[1;33m[\u001b[0m\u001b[1;36m0\u001b[0m\u001b[1;33m]\u001b[0m\u001b[1;33m)\u001b[0m\u001b[1;33m\u001b[0m\u001b[0m\n\u001b[0m\u001b[0;32m      6\u001b[0m \u001b[1;33m\u001b[0m\u001b[0m\n\u001b[0;32m      7\u001b[0m \u001b[0mprint\u001b[0m\u001b[1;33m(\u001b[0m\u001b[0myour_list\u001b[0m\u001b[1;33m[\u001b[0m\u001b[1;36m0\u001b[0m\u001b[1;33m]\u001b[0m\u001b[1;33m)\u001b[0m\u001b[1;33m\u001b[0m\u001b[0m\n",
      "\u001b[1;31mTypeError\u001b[0m: '_csv.reader' object is not subscriptable"
     ]
    }
   ],
   "source": [
    "import csv\n",
    "\n",
    "with open('market.csv', 'r') as f:\n",
    "    reader = csv.reader(f)\n",
    "    your_list = list(reader)\n",
    "\n",
    "print(your_list)"
   ]
  },
  {
   "cell_type": "code",
   "execution_count": 64,
   "metadata": {},
   "outputs": [
    {
     "name": "stdout",
     "output_type": "stream",
     "text": [
      "['Atlanta', 'Austin', 'Baltimore', 'Birmingham', 'Boise', 'Boston', 'Charleston', 'Charlotte', 'Chicago', 'Cincinnati', 'Cleveland', 'Columbia', 'Columbus', 'Dallas', 'Dayton', 'Denver', 'Detroit', 'Fort-Worth', 'Greensboro', 'Greenville', 'Hartford', 'Houston', 'Indianapolis', 'Jackson', 'Jacksonville', 'Kansas-City', 'Las-Vegas', 'Los-Angeles', 'Louisville', 'Memphis', 'Miami', 'Minneapolis', 'Naples', 'Nashville', 'New-York', 'Oakland', 'Orlando', 'Philadelphia', 'Phoenix', 'Pittsburgh', 'Portland', 'Providence', 'Raleigh', 'Richmond']\n"
     ]
    }
   ],
   "source": [
    "import csv\n",
    "\n",
    "f = open('market.csv')\n",
    "csv_f = csv.reader(f)\n",
    "\n",
    "market = []\n",
    "\n",
    "for row in csv_f:\n",
    "    market.append(row[0])\n",
    "\n",
    "print (market)"
   ]
  },
  {
   "cell_type": "code",
   "execution_count": 67,
   "metadata": {},
   "outputs": [],
   "source": [
    "links = [\"https://www.numbeo.com/food-prices/\" + str(link) for link in market]"
   ]
  },
  {
   "cell_type": "code",
   "execution_count": 68,
   "metadata": {},
   "outputs": [
    {
     "data": {
      "text/plain": [
       "['https://www.numbeo.com/food-prices/Atlanta',\n",
       " 'https://www.numbeo.com/food-prices/Austin',\n",
       " 'https://www.numbeo.com/food-prices/Baltimore',\n",
       " 'https://www.numbeo.com/food-prices/Birmingham',\n",
       " 'https://www.numbeo.com/food-prices/Boise',\n",
       " 'https://www.numbeo.com/food-prices/Boston',\n",
       " 'https://www.numbeo.com/food-prices/Charleston',\n",
       " 'https://www.numbeo.com/food-prices/Charlotte',\n",
       " 'https://www.numbeo.com/food-prices/Chicago',\n",
       " 'https://www.numbeo.com/food-prices/Cincinnati',\n",
       " 'https://www.numbeo.com/food-prices/Cleveland',\n",
       " 'https://www.numbeo.com/food-prices/Columbia',\n",
       " 'https://www.numbeo.com/food-prices/Columbus',\n",
       " 'https://www.numbeo.com/food-prices/Dallas',\n",
       " 'https://www.numbeo.com/food-prices/Dayton',\n",
       " 'https://www.numbeo.com/food-prices/Denver',\n",
       " 'https://www.numbeo.com/food-prices/Detroit',\n",
       " 'https://www.numbeo.com/food-prices/Fort-Worth',\n",
       " 'https://www.numbeo.com/food-prices/Greensboro',\n",
       " 'https://www.numbeo.com/food-prices/Greenville',\n",
       " 'https://www.numbeo.com/food-prices/Hartford',\n",
       " 'https://www.numbeo.com/food-prices/Houston',\n",
       " 'https://www.numbeo.com/food-prices/Indianapolis',\n",
       " 'https://www.numbeo.com/food-prices/Jackson',\n",
       " 'https://www.numbeo.com/food-prices/Jacksonville',\n",
       " 'https://www.numbeo.com/food-prices/Kansas-City',\n",
       " 'https://www.numbeo.com/food-prices/Las-Vegas',\n",
       " 'https://www.numbeo.com/food-prices/Los-Angeles',\n",
       " 'https://www.numbeo.com/food-prices/Louisville',\n",
       " 'https://www.numbeo.com/food-prices/Memphis',\n",
       " 'https://www.numbeo.com/food-prices/Miami',\n",
       " 'https://www.numbeo.com/food-prices/Minneapolis',\n",
       " 'https://www.numbeo.com/food-prices/Naples',\n",
       " 'https://www.numbeo.com/food-prices/Nashville',\n",
       " 'https://www.numbeo.com/food-prices/New-York',\n",
       " 'https://www.numbeo.com/food-prices/Oakland',\n",
       " 'https://www.numbeo.com/food-prices/Orlando',\n",
       " 'https://www.numbeo.com/food-prices/Philadelphia',\n",
       " 'https://www.numbeo.com/food-prices/Phoenix',\n",
       " 'https://www.numbeo.com/food-prices/Pittsburgh',\n",
       " 'https://www.numbeo.com/food-prices/Portland',\n",
       " 'https://www.numbeo.com/food-prices/Providence',\n",
       " 'https://www.numbeo.com/food-prices/Raleigh',\n",
       " 'https://www.numbeo.com/food-prices/Richmond']"
      ]
     },
     "execution_count": 68,
     "metadata": {},
     "output_type": "execute_result"
    }
   ],
   "source": [
    "links"
   ]
  },
  {
   "cell_type": "code",
   "execution_count": null,
   "metadata": {
    "collapsed": true
   },
   "outputs": [],
   "source": []
  }
 ],
 "metadata": {
  "kernelspec": {
   "display_name": "Python 3",
   "language": "python",
   "name": "python3"
  },
  "language_info": {
   "codemirror_mode": {
    "name": "ipython",
    "version": 3
   },
   "file_extension": ".py",
   "mimetype": "text/x-python",
   "name": "python",
   "nbconvert_exporter": "python",
   "pygments_lexer": "ipython3",
   "version": "3.6.3"
  }
 },
 "nbformat": 4,
 "nbformat_minor": 2
}
